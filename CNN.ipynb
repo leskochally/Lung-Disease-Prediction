{
 "cells": [
  {
   "cell_type": "code",
   "execution_count": 1,
   "metadata": {
    "id": "eX6z2CP3Avlc"
   },
   "outputs": [],
   "source": [
    "# Convolutional Neural Network\n",
    "\n",
    "# Importing the libraries\n",
    "import tensorflow as tf\n",
    "from tensorflow.keras.preprocessing.image import ImageDataGenerator"
   ]
  },
  {
   "cell_type": "code",
   "execution_count": null,
   "metadata": {
    "colab": {
     "base_uri": "https://localhost:8080/"
    },
    "id": "uEORXOkFA85X",
    "outputId": "bf8bd3de-3ba2-4e62-a9d9-2290e4112940"
   },
   "outputs": [
    {
     "name": "stdout",
     "output_type": "stream",
     "text": [
      "Mounted at /content/drive\n"
     ]
    }
   ],
   "source": [
    "from google.colab import drive\n",
    "drive.mount('/content/drive')"
   ]
  },
  {
   "cell_type": "code",
   "execution_count": 1,
   "metadata": {},
   "outputs": [],
   "source": [
    "from pathlib import Path"
   ]
  },
  {
   "cell_type": "code",
   "execution_count": 2,
   "metadata": {},
   "outputs": [],
   "source": [
    "# Define path to the data directory\n",
    "data_dir = Path('D:\\\\GIM 1st Year\\\\Term 5\\\\AML\\\\Final Project')\n",
    "\n",
    "# Path to train directory (Fancy pathlib...no more os.path!!)\n",
    "train_dir = data_dir / 'train'\n",
    "\n",
    "# Path to validation directory\n",
    "val_dir = data_dir / 'val'\n",
    "\n",
    "# Path to test directory\n",
    "test_dir = data_dir / 'test'"
   ]
  },
  {
   "cell_type": "code",
   "execution_count": 7,
   "metadata": {},
   "outputs": [],
   "source": [
    "import pandas as pd"
   ]
  },
  {
   "cell_type": "code",
   "execution_count": 8,
   "metadata": {},
   "outputs": [
    {
     "data": {
      "text/html": [
       "<div>\n",
       "<style scoped>\n",
       "    .dataframe tbody tr th:only-of-type {\n",
       "        vertical-align: middle;\n",
       "    }\n",
       "\n",
       "    .dataframe tbody tr th {\n",
       "        vertical-align: top;\n",
       "    }\n",
       "\n",
       "    .dataframe thead th {\n",
       "        text-align: right;\n",
       "    }\n",
       "</style>\n",
       "<table border=\"1\" class=\"dataframe\">\n",
       "  <thead>\n",
       "    <tr style=\"text-align: right;\">\n",
       "      <th></th>\n",
       "      <th>image</th>\n",
       "      <th>label</th>\n",
       "    </tr>\n",
       "  </thead>\n",
       "  <tbody>\n",
       "    <tr>\n",
       "      <th>0</th>\n",
       "      <td>D:\\GIM 1st Year\\Term 5\\AML\\Final Project\\train...</td>\n",
       "      <td>0</td>\n",
       "    </tr>\n",
       "    <tr>\n",
       "      <th>1</th>\n",
       "      <td>D:\\GIM 1st Year\\Term 5\\AML\\Final Project\\train...</td>\n",
       "      <td>0</td>\n",
       "    </tr>\n",
       "    <tr>\n",
       "      <th>2</th>\n",
       "      <td>D:\\GIM 1st Year\\Term 5\\AML\\Final Project\\train...</td>\n",
       "      <td>0</td>\n",
       "    </tr>\n",
       "    <tr>\n",
       "      <th>3</th>\n",
       "      <td>D:\\GIM 1st Year\\Term 5\\AML\\Final Project\\train...</td>\n",
       "      <td>0</td>\n",
       "    </tr>\n",
       "    <tr>\n",
       "      <th>4</th>\n",
       "      <td>D:\\GIM 1st Year\\Term 5\\AML\\Final Project\\train...</td>\n",
       "      <td>0</td>\n",
       "    </tr>\n",
       "  </tbody>\n",
       "</table>\n",
       "</div>"
      ],
      "text/plain": [
       "                                               image  label\n",
       "0  D:\\GIM 1st Year\\Term 5\\AML\\Final Project\\train...      0\n",
       "1  D:\\GIM 1st Year\\Term 5\\AML\\Final Project\\train...      0\n",
       "2  D:\\GIM 1st Year\\Term 5\\AML\\Final Project\\train...      0\n",
       "3  D:\\GIM 1st Year\\Term 5\\AML\\Final Project\\train...      0\n",
       "4  D:\\GIM 1st Year\\Term 5\\AML\\Final Project\\train...      0"
      ]
     },
     "execution_count": 8,
     "metadata": {},
     "output_type": "execute_result"
    }
   ],
   "source": [
    "# Here we get the path to the normal and pneumonia sub-directories\n",
    "normal_cases_dir = train_dir / 'NORMAL'\n",
    "pneumonia_cases_dir = train_dir / 'PNEUMONIA'\n",
    "\n",
    "# Getting the list of images\n",
    "normal_cases = normal_cases_dir.glob('*.jpeg')\n",
    "pneumonia_cases = pneumonia_cases_dir.glob('*.jpeg')\n",
    "\n",
    "train_data = []\n",
    "\n",
    "# Here we are going through all normal cases and labeling them as 0\n",
    "for img in normal_cases:\n",
    "    train_data.append((img,0))\n",
    "\n",
    "# Here we are going through all Pneumonia cases and labeling them as 1\n",
    "for img in pneumonia_cases:\n",
    "    train_data.append((img, 1))\n",
    "\n",
    "train_data = pd.DataFrame(train_data, columns=['image', 'label'],index=None)\n",
    "\n",
    "train_data.head()"
   ]
  },
  {
   "cell_type": "code",
   "execution_count": 10,
   "metadata": {},
   "outputs": [],
   "source": [
    "train_data = train_data.sample(frac=1.).reset_index(drop=True)\n"
   ]
  },
  {
   "cell_type": "code",
   "execution_count": 11,
   "metadata": {},
   "outputs": [
    {
     "data": {
      "text/html": [
       "<div>\n",
       "<style scoped>\n",
       "    .dataframe tbody tr th:only-of-type {\n",
       "        vertical-align: middle;\n",
       "    }\n",
       "\n",
       "    .dataframe tbody tr th {\n",
       "        vertical-align: top;\n",
       "    }\n",
       "\n",
       "    .dataframe thead th {\n",
       "        text-align: right;\n",
       "    }\n",
       "</style>\n",
       "<table border=\"1\" class=\"dataframe\">\n",
       "  <thead>\n",
       "    <tr style=\"text-align: right;\">\n",
       "      <th></th>\n",
       "      <th>image</th>\n",
       "      <th>label</th>\n",
       "    </tr>\n",
       "  </thead>\n",
       "  <tbody>\n",
       "    <tr>\n",
       "      <th>0</th>\n",
       "      <td>D:\\GIM 1st Year\\Term 5\\AML\\Final Project\\train...</td>\n",
       "      <td>1</td>\n",
       "    </tr>\n",
       "    <tr>\n",
       "      <th>1</th>\n",
       "      <td>D:\\GIM 1st Year\\Term 5\\AML\\Final Project\\train...</td>\n",
       "      <td>1</td>\n",
       "    </tr>\n",
       "    <tr>\n",
       "      <th>2</th>\n",
       "      <td>D:\\GIM 1st Year\\Term 5\\AML\\Final Project\\train...</td>\n",
       "      <td>1</td>\n",
       "    </tr>\n",
       "    <tr>\n",
       "      <th>3</th>\n",
       "      <td>D:\\GIM 1st Year\\Term 5\\AML\\Final Project\\train...</td>\n",
       "      <td>0</td>\n",
       "    </tr>\n",
       "    <tr>\n",
       "      <th>4</th>\n",
       "      <td>D:\\GIM 1st Year\\Term 5\\AML\\Final Project\\train...</td>\n",
       "      <td>1</td>\n",
       "    </tr>\n",
       "  </tbody>\n",
       "</table>\n",
       "</div>"
      ],
      "text/plain": [
       "                                               image  label\n",
       "0  D:\\GIM 1st Year\\Term 5\\AML\\Final Project\\train...      1\n",
       "1  D:\\GIM 1st Year\\Term 5\\AML\\Final Project\\train...      1\n",
       "2  D:\\GIM 1st Year\\Term 5\\AML\\Final Project\\train...      1\n",
       "3  D:\\GIM 1st Year\\Term 5\\AML\\Final Project\\train...      0\n",
       "4  D:\\GIM 1st Year\\Term 5\\AML\\Final Project\\train...      1"
      ]
     },
     "execution_count": 11,
     "metadata": {},
     "output_type": "execute_result"
    }
   ],
   "source": [
    "train_data.head()"
   ]
  },
  {
   "cell_type": "code",
   "execution_count": 9,
   "metadata": {},
   "outputs": [
    {
     "data": {
      "text/html": [
       "<div>\n",
       "<style scoped>\n",
       "    .dataframe tbody tr th:only-of-type {\n",
       "        vertical-align: middle;\n",
       "    }\n",
       "\n",
       "    .dataframe tbody tr th {\n",
       "        vertical-align: top;\n",
       "    }\n",
       "\n",
       "    .dataframe thead th {\n",
       "        text-align: right;\n",
       "    }\n",
       "</style>\n",
       "<table border=\"1\" class=\"dataframe\">\n",
       "  <thead>\n",
       "    <tr style=\"text-align: right;\">\n",
       "      <th></th>\n",
       "      <th>image</th>\n",
       "      <th>label</th>\n",
       "    </tr>\n",
       "  </thead>\n",
       "  <tbody>\n",
       "    <tr>\n",
       "      <th>5211</th>\n",
       "      <td>D:\\GIM 1st Year\\Term 5\\AML\\Final Project\\train...</td>\n",
       "      <td>1</td>\n",
       "    </tr>\n",
       "    <tr>\n",
       "      <th>5212</th>\n",
       "      <td>D:\\GIM 1st Year\\Term 5\\AML\\Final Project\\train...</td>\n",
       "      <td>1</td>\n",
       "    </tr>\n",
       "    <tr>\n",
       "      <th>5213</th>\n",
       "      <td>D:\\GIM 1st Year\\Term 5\\AML\\Final Project\\train...</td>\n",
       "      <td>1</td>\n",
       "    </tr>\n",
       "    <tr>\n",
       "      <th>5214</th>\n",
       "      <td>D:\\GIM 1st Year\\Term 5\\AML\\Final Project\\train...</td>\n",
       "      <td>1</td>\n",
       "    </tr>\n",
       "    <tr>\n",
       "      <th>5215</th>\n",
       "      <td>D:\\GIM 1st Year\\Term 5\\AML\\Final Project\\train...</td>\n",
       "      <td>1</td>\n",
       "    </tr>\n",
       "  </tbody>\n",
       "</table>\n",
       "</div>"
      ],
      "text/plain": [
       "                                                  image  label\n",
       "5211  D:\\GIM 1st Year\\Term 5\\AML\\Final Project\\train...      1\n",
       "5212  D:\\GIM 1st Year\\Term 5\\AML\\Final Project\\train...      1\n",
       "5213  D:\\GIM 1st Year\\Term 5\\AML\\Final Project\\train...      1\n",
       "5214  D:\\GIM 1st Year\\Term 5\\AML\\Final Project\\train...      1\n",
       "5215  D:\\GIM 1st Year\\Term 5\\AML\\Final Project\\train...      1"
      ]
     },
     "execution_count": 9,
     "metadata": {},
     "output_type": "execute_result"
    }
   ],
   "source": [
    "train_data.tail()"
   ]
  },
  {
   "cell_type": "code",
   "execution_count": 19,
   "metadata": {},
   "outputs": [],
   "source": [
    "import matplotlib.pyplot as plt\n",
    "%matplotlib inline\n",
    "import seaborn as sns"
   ]
  },
  {
   "cell_type": "code",
   "execution_count": 20,
   "metadata": {},
   "outputs": [
    {
     "name": "stdout",
     "output_type": "stream",
     "text": [
      "1    3875\n",
      "0    1341\n",
      "Name: label, dtype: int64\n"
     ]
    },
    {
     "data": {
      "image/png": "[encoded data removed]",
      "text/plain": [
       "<Figure size 432x288 with 1 Axes>"
      ]
     },
     "metadata": {
      "needs_background": "light"
     },
     "output_type": "display_data"
    }
   ],
   "source": [
    "# Get the counts for each class\n",
    "cases_count = train_data['label'].value_counts()\n",
    "print(cases_count)\n",
    "\n",
    "# Plot the results \n",
    "sns.barplot(x=cases_count.index, y= cases_count.values)\n",
    "plt.title('Number of cases', fontsize=14)\n",
    "plt.xlabel('Case type', fontsize=12)\n",
    "plt.ylabel('Count', fontsize=12)\n",
    "plt.xticks(range(len(cases_count.index)), ['Normal(0)', 'Pneumonia(1)'])\n",
    "plt.show()\n"
   ]
  },
  {
   "cell_type": "code",
   "execution_count": null,
   "metadata": {
    "colab": {
     "base_uri": "https://localhost:8080/"
    },
    "id": "yr206pBvAvlf",
    "outputId": "510a7991-7dd5-4c4e-a4e1-2b9daf5b3d44"
   },
   "outputs": [
    {
     "name": "stdout",
     "output_type": "stream",
     "text": [
      "Found 5216 images belonging to 2 classes.\n",
      "Found 624 images belonging to 2 classes.\n"
     ]
    }
   ],
   "source": [
    "# Part 1 - Data Preprocessing\n",
    "\n",
    "# Preprocessing the Training set\n",
    "train_datagen = ImageDataGenerator(rescale = 1./255,\n",
    "                                   shear_range = 0.2,\n",
    "                                   zoom_range = 0.2,\n",
    "                                   horizontal_flip = True)\n",
    "training_set = train_datagen.flow_from_directory('/content/drive/My Drive/Datasets/train',\n",
    "                                                 target_size = (64, 64),\n",
    "                                                 batch_size = 32,\n",
    "                                                 class_mode = 'binary')\n",
    "\n",
    "# Preprocessing the Test set\n",
    "test_datagen = ImageDataGenerator(rescale = 1./255)\n",
    "test_set = test_datagen.flow_from_directory('/content/drive/My Drive/Datasets/test',\n",
    "                                            target_size = (64, 64),\n",
    "                                            batch_size = 32,\n",
    "                                            class_mode = 'binary')"
   ]
  },
  {
   "cell_type": "code",
   "execution_count": null,
   "metadata": {
    "id": "m_rqiJ-dAvlk"
   },
   "outputs": [],
   "source": [
    "# Part 2 - Building the CNN\n",
    "\n",
    "# Initialising the CNN\n",
    "cnn = tf.keras.models.Sequential()\n",
    "\n",
    "# Step 1 - Convolution\n",
    "cnn.add(tf.keras.layers.Conv2D(filters=32, kernel_size=3, activation='relu', input_shape=[64, 64, 3]))\n",
    "\n",
    "# Step 2 - Pooling\n",
    "cnn.add(tf.keras.layers.MaxPool2D(pool_size=2, strides=2))\n",
    "\n",
    "# Adding a second convolutional layer\n",
    "cnn.add(tf.keras.layers.Conv2D(filters=32, kernel_size=3, activation='relu'))\n",
    "cnn.add(tf.keras.layers.MaxPool2D(pool_size=2, strides=2))\n",
    "\n",
    "# Step 3 - Flattening\n",
    "cnn.add(tf.keras.layers.Flatten())\n",
    "\n",
    "# Step 4 - Full Connection\n",
    "cnn.add(tf.keras.layers.Dense(units=128, activation='relu'))\n",
    "\n",
    "# Step 5 - Output Layer\n",
    "cnn.add(tf.keras.layers.Dense(units=1, activation='sigmoid'))"
   ]
  },
  {
   "cell_type": "code",
   "execution_count": null,
   "metadata": {
    "colab": {
     "base_uri": "https://localhost:8080/"
    },
    "id": "TJGiPkPNAvlm",
    "outputId": "e14b9bfd-ae1d-4d29-bfea-2b7b36685887"
   },
   "outputs": [
    {
     "name": "stdout",
     "output_type": "stream",
     "text": [
      "Model: \"sequential\"\n",
      "_________________________________________________________________\n",
      "Layer (type)                 Output Shape              Param #   \n",
      "=================================================================\n",
      "conv2d (Conv2D)              (None, 62, 62, 32)        896       \n",
      "_________________________________________________________________\n",
      "max_pooling2d (MaxPooling2D) (None, 31, 31, 32)        0         \n",
      "_________________________________________________________________\n",
      "conv2d_1 (Conv2D)            (None, 29, 29, 32)        9248      \n",
      "_________________________________________________________________\n",
      "max_pooling2d_1 (MaxPooling2 (None, 14, 14, 32)        0         \n",
      "_________________________________________________________________\n",
      "flatten (Flatten)            (None, 6272)              0         \n",
      "_________________________________________________________________\n",
      "dense (Dense)                (None, 128)               802944    \n",
      "_________________________________________________________________\n",
      "dense_1 (Dense)              (None, 1)                 129       \n",
      "=================================================================\n",
      "Total params: 813,217\n",
      "Trainable params: 813,217\n",
      "Non-trainable params: 0\n",
      "_________________________________________________________________\n"
     ]
    }
   ],
   "source": [
    "cnn.summary()"
   ]
  },
  {
   "cell_type": "code",
   "execution_count": null,
   "metadata": {
    "colab": {
     "base_uri": "https://localhost:8080/"
    },
    "id": "PFBbYns1Avlp",
    "outputId": "2b239646-f0ce-4d32-a91c-a33110d367a5"
   },
   "outputs": [
    {
     "name": "stdout",
     "output_type": "stream",
     "text": [
      "Epoch 1/25\n",
      "163/163 [==============================] - 1675s 10s/step - loss: 0.3393 - accuracy: 0.8570 - val_loss: 0.3136 - val_accuracy: 0.8606\n",
      "Epoch 2/25\n",
      "163/163 [==============================] - 66s 406ms/step - loss: 0.2367 - accuracy: 0.8988 - val_loss: 0.4257 - val_accuracy: 0.8013\n",
      "Epoch 3/25\n",
      "163/163 [==============================] - 67s 408ms/step - loss: 0.1935 - accuracy: 0.9212 - val_loss: 0.4846 - val_accuracy: 0.7821\n",
      "Epoch 4/25\n",
      "163/163 [==============================] - 67s 410ms/step - loss: 0.1957 - accuracy: 0.9237 - val_loss: 0.6628 - val_accuracy: 0.7692\n",
      "Epoch 5/25\n",
      "163/163 [==============================] - 66s 404ms/step - loss: 0.1616 - accuracy: 0.9398 - val_loss: 0.5013 - val_accuracy: 0.8141\n",
      "Epoch 6/25\n",
      "163/163 [==============================] - 66s 403ms/step - loss: 0.1684 - accuracy: 0.9331 - val_loss: 0.4168 - val_accuracy: 0.8494\n",
      "Epoch 7/25\n",
      "163/163 [==============================] - 66s 404ms/step - loss: 0.1505 - accuracy: 0.9400 - val_loss: 0.5729 - val_accuracy: 0.7965\n",
      "Epoch 8/25\n",
      "163/163 [==============================] - 65s 397ms/step - loss: 0.1564 - accuracy: 0.9392 - val_loss: 0.3811 - val_accuracy: 0.8686\n",
      "Epoch 9/25\n",
      "163/163 [==============================] - 66s 406ms/step - loss: 0.1449 - accuracy: 0.9459 - val_loss: 0.3022 - val_accuracy: 0.8894\n",
      "Epoch 10/25\n",
      "163/163 [==============================] - 65s 401ms/step - loss: 0.1457 - accuracy: 0.9467 - val_loss: 0.3574 - val_accuracy: 0.8878\n",
      "Epoch 11/25\n",
      "163/163 [==============================] - 66s 402ms/step - loss: 0.1383 - accuracy: 0.9480 - val_loss: 0.3210 - val_accuracy: 0.8990\n",
      "Epoch 12/25\n",
      "163/163 [==============================] - 65s 400ms/step - loss: 0.1458 - accuracy: 0.9457 - val_loss: 0.3502 - val_accuracy: 0.8990\n",
      "Epoch 13/25\n",
      "163/163 [==============================] - 65s 402ms/step - loss: 0.1290 - accuracy: 0.9507 - val_loss: 0.3141 - val_accuracy: 0.9038\n",
      "Epoch 14/25\n",
      "163/163 [==============================] - 65s 399ms/step - loss: 0.1358 - accuracy: 0.9461 - val_loss: 0.4355 - val_accuracy: 0.8766\n",
      "Epoch 15/25\n",
      "163/163 [==============================] - 65s 397ms/step - loss: 0.1317 - accuracy: 0.9494 - val_loss: 0.2491 - val_accuracy: 0.9038\n",
      "Epoch 16/25\n",
      "163/163 [==============================] - 66s 406ms/step - loss: 0.1168 - accuracy: 0.9540 - val_loss: 0.2558 - val_accuracy: 0.9263\n",
      "Epoch 17/25\n",
      "163/163 [==============================] - 66s 403ms/step - loss: 0.1320 - accuracy: 0.9492 - val_loss: 0.2832 - val_accuracy: 0.8958\n",
      "Epoch 18/25\n",
      "163/163 [==============================] - 66s 406ms/step - loss: 0.1265 - accuracy: 0.9523 - val_loss: 0.2897 - val_accuracy: 0.9215\n",
      "Epoch 19/25\n",
      "163/163 [==============================] - 66s 405ms/step - loss: 0.1265 - accuracy: 0.9534 - val_loss: 0.2952 - val_accuracy: 0.9167\n",
      "Epoch 20/25\n",
      "163/163 [==============================] - 68s 416ms/step - loss: 0.1179 - accuracy: 0.9538 - val_loss: 0.4467 - val_accuracy: 0.8814\n",
      "Epoch 21/25\n",
      "163/163 [==============================] - 66s 407ms/step - loss: 0.1099 - accuracy: 0.9565 - val_loss: 0.2866 - val_accuracy: 0.9167\n",
      "Epoch 22/25\n",
      "163/163 [==============================] - 66s 406ms/step - loss: 0.1015 - accuracy: 0.9630 - val_loss: 0.4133 - val_accuracy: 0.8862\n",
      "Epoch 23/25\n",
      "163/163 [==============================] - 65s 398ms/step - loss: 0.1021 - accuracy: 0.9617 - val_loss: 0.3292 - val_accuracy: 0.9006\n",
      "Epoch 24/25\n",
      "163/163 [==============================] - 65s 398ms/step - loss: 0.0965 - accuracy: 0.9643 - val_loss: 0.4765 - val_accuracy: 0.8814\n",
      "Epoch 25/25\n",
      "163/163 [==============================] - 65s 401ms/step - loss: 0.0967 - accuracy: 0.9634 - val_loss: 0.3754 - val_accuracy: 0.9022\n"
     ]
    },
    {
     "data": {
      "text/plain": [
       "<tensorflow.python.keras.callbacks.History at 0x7f7331f87dd8>"
      ]
     },
     "execution_count": 8,
     "metadata": {
      "tags": []
     },
     "output_type": "execute_result"
    }
   ],
   "source": [
    "# Part 3 - Training the CNN\n",
    "\n",
    "# Compiling the CNN\n",
    "cnn.compile(optimizer = 'adam', loss = 'binary_crossentropy', metrics = ['accuracy'])\n",
    "\n",
    "# Training the CNN on the Training set and evaluating it on the Test set\n",
    "cnn.fit(x = training_set, validation_data = test_set, epochs = 25)"
   ]
  },
  {
   "cell_type": "code",
   "execution_count": null,
   "metadata": {
    "id": "-ynsQfsNAvlu"
   },
   "outputs": [],
   "source": [
    "# Part 4 - Making a single prediction\n",
    "\n",
    "import numpy as np\n",
    "from tensorflow.keras.preprocessing import image\n",
    "test_image = image.load_img('/content/drive/My Drive/Datasets/val/NORMAL/one.jpeg', target_size = (64, 64))\n",
    "test_image = image.img_to_array(test_image)\n",
    "test_image=test_image/255\n",
    "test_image = np.expand_dims(test_image, axis = 0)\n",
    "result = cnn.predict(test_image)"
   ]
  },
  {
   "cell_type": "code",
   "execution_count": null,
   "metadata": {
    "colab": {
     "base_uri": "https://localhost:8080/"
    },
    "id": "ukcxaFDVAvlx",
    "outputId": "dda34502-1130-4c32-862d-cfd2574800d7"
   },
   "outputs": [
    {
     "data": {
      "text/plain": [
       "array([[0.9982185]], dtype=float32)"
      ]
     },
     "execution_count": 17,
     "metadata": {
      "tags": []
     },
     "output_type": "execute_result"
    }
   ],
   "source": [
    "result"
   ]
  },
  {
   "cell_type": "code",
   "execution_count": null,
   "metadata": {
    "colab": {
     "base_uri": "https://localhost:8080/"
    },
    "id": "5XAMSYeQAvlz",
    "outputId": "d76e27db-92fe-40cc-8412-de9d61e4416f"
   },
   "outputs": [
    {
     "name": "stdout",
     "output_type": "stream",
     "text": [
      "Pneumonia!!\n"
     ]
    }
   ],
   "source": [
    "if result[0]<=0.5:\n",
    "    print(\"Normal\")\n",
    "else:\n",
    "    print(\"Pneumonia!!\")"
   ]
  }
 ],
 "metadata": {
  "accelerator": "GPU",
  "colab": {
   "name": "Chest X-Ray.ipynb",
   "provenance": []
  },
  "kernelspec": {
   "display_name": "Python 3",
   "language": "python",
   "name": "python3"
  },
  "language_info": {
   "codemirror_mode": {
    "name": "ipython",
    "version": 3
   },
   "file_extension": ".py",
   "mimetype": "text/x-python",
   "name": "python",
   "nbconvert_exporter": "python",
   "pygments_lexer": "ipython3",
   "version": "3.7.0"
  }
 },
 "nbformat": 4,
 "nbformat_minor": 1
}
